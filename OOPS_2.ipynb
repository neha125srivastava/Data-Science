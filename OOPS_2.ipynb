{
  "nbformat": 4,
  "nbformat_minor": 0,
  "metadata": {
    "colab": {
      "provenance": []
    },
    "kernelspec": {
      "name": "python3",
      "display_name": "Python 3"
    },
    "language_info": {
      "name": "python"
    }
  },
  "cells": [
    {
      "cell_type": "markdown",
      "source": [
        "Q1. What is Abstraction in OOps? Explain with an example.\n",
        "\n",
        "Ans- Abstraction is one of the fundamental concepts in Object-Oriented Programming (OOP).\n",
        "It means hiding the internal implementation and showing only the essential features of an object.\n",
        "\n",
        "It helps in:\n",
        "\n",
        "Reducing complexity\n",
        "\n",
        "Increasing code reusability\n",
        "\n",
        "Protecting internal object details\n",
        "\n",
        "In Python, abstraction is typically achieved using abstract classes and abstract methods (with the help of the abc module)."
      ],
      "metadata": {
        "id": "P5hzSuC_3u5J"
      }
    },
    {
      "cell_type": "code",
      "execution_count": 1,
      "metadata": {
        "colab": {
          "base_uri": "https://localhost:8080/"
        },
        "id": "UGN5HpO53nLw",
        "outputId": "e9b82670-762a-482e-a45d-4fbe2836979c"
      },
      "outputs": [
        {
          "output_type": "stream",
          "name": "stdout",
          "text": [
            "Car engine started.\n",
            "Bike engine started.\n"
          ]
        }
      ],
      "source": [
        "from abc import ABC, abstractmethod\n",
        "\n",
        "# Abstract class\n",
        "class Vehicle(ABC):\n",
        "\n",
        "    @abstractmethod\n",
        "    def start_engine(self):\n",
        "        pass\n",
        "\n",
        "# Concrete class\n",
        "class Car(Vehicle):\n",
        "\n",
        "    def start_engine(self):\n",
        "        return \"Car engine started.\"\n",
        "\n",
        "# Concrete class\n",
        "class Bike(Vehicle):\n",
        "\n",
        "    def start_engine(self):\n",
        "        return \"Bike engine started.\"\n",
        "my_car = Car()\n",
        "my_bike = Bike()\n",
        "\n",
        "print(my_car.start_engine())\n",
        "print(my_bike.start_engine())\n"
      ]
    },
    {
      "cell_type": "markdown",
      "source": [
        "Q2. Differentiate between Abstraction and Encapsulation. Explain with an example.\n",
        "\n",
        "Ans - Abstraction is the process of hiding internal implementation details and showing only the essential features of an object.\n",
        "\n",
        "  Focuses on what an object does, not how it does it.\n",
        "\n",
        "Encapsulation is the process of wrapping data and methods into a single unit (a class) and restricting direct access to some of the object’s components.\n",
        "\n",
        " Focuses on protecting the data by controlling access.\n",
        "\n"
      ],
      "metadata": {
        "id": "xoYOrkNO4QWB"
      }
    },
    {
      "cell_type": "code",
      "source": [
        "#Abstraction Example\n",
        "from abc import ABC, abstractmethod\n",
        "\n",
        "class Vehicle(ABC):  # Abstract class\n",
        "    @abstractmethod\n",
        "    def start_engine(self):\n",
        "        pass\n",
        "\n",
        "class Car(Vehicle):\n",
        "    def start_engine(self):\n",
        "        print(\"Car engine started.\")\n",
        "\n",
        "# Usage\n",
        "my_car = Car()\n",
        "my_car.start_engine()\n",
        "\n",
        "#Encapsulation Example\n",
        "class Student:\n",
        "    def __init__(self, name, marks):\n",
        "        self.__name = name           # private attribute\n",
        "        self.__marks = marks         # private attribute\n",
        "\n",
        "    def get_marks(self):\n",
        "        return self.__marks\n",
        "\n",
        "    def set_marks(self, new_marks):\n",
        "        if 0 <= new_marks <= 100:\n",
        "            self.__marks = new_marks\n",
        "        else:\n",
        "            print(\"Invalid marks\")\n",
        "\n",
        "# Usage\n",
        "s = Student(\"Neha\", 88)\n",
        "print(s.get_marks())   # 88\n",
        "s.set_marks(105)       # Invalid marks\n"
      ],
      "metadata": {
        "colab": {
          "base_uri": "https://localhost:8080/"
        },
        "id": "LC0xSiyv4sAA",
        "outputId": "a377616d-1f71-41dd-e008-8f140326f0c9"
      },
      "execution_count": 3,
      "outputs": [
        {
          "output_type": "stream",
          "name": "stdout",
          "text": [
            "Car engine started.\n",
            "88\n",
            "Invalid marks\n"
          ]
        }
      ]
    },
    {
      "cell_type": "markdown",
      "source": [
        "Q3. What is abc module in python? Why is it used?\n",
        "\n",
        "Ans - The abc module in Python stands for Abstract Base Classes.\n",
        "It provides the tools to create abstract classes and abstract methods, which are used to define a common interface for other (child) classes.\n",
        "\n",
        "Usage--\n",
        "\n",
        "To define a blueprint for child classes\n",
        "\n",
        "To enforce method implementation in subclasses\n",
        "\n",
        "To support abstraction in object-oriented programming"
      ],
      "metadata": {
        "id": "f6PPsUZz6MCK"
      }
    },
    {
      "cell_type": "code",
      "source": [
        "from abc import ABC, abstractmethod\n",
        "\n",
        "# Abstract class\n",
        "class Animal(ABC):\n",
        "\n",
        "    @abstractmethod\n",
        "    def make_sound(self):\n",
        "        pass\n",
        "\n",
        "# Concrete class\n",
        "class Dog(Animal):\n",
        "    def make_sound(self):\n",
        "        print(\"Bark\")\n",
        "\n",
        "# Usage\n",
        "d = Dog()\n",
        "d.make_sound()\n",
        "\n"
      ],
      "metadata": {
        "colab": {
          "base_uri": "https://localhost:8080/"
        },
        "id": "LTs1cYq95gbe",
        "outputId": "401e83aa-c3ff-445b-c54d-728ef3319b37"
      },
      "execution_count": 4,
      "outputs": [
        {
          "output_type": "stream",
          "name": "stdout",
          "text": [
            "Bark\n"
          ]
        }
      ]
    },
    {
      "cell_type": "markdown",
      "source": [
        "Q4. How can we achieve data abstraction?\n",
        "\n",
        "Ans- In Python, data abstraction is achieved using:\n",
        "\n",
        "Abstract Classes\n",
        "\n",
        "Abstract Methods\n",
        "\n",
        "These are provided by the abc module (abc = Abstract Base Classes)\n",
        "\n",
        "Steps to Achieve Abstraction:\n",
        "Import ABC and abstractmethod from abc\n",
        "\n",
        "Create a class that inherits from ABC\n",
        "\n",
        "Define one or more methods using the @abstractmethod decorator\n",
        "\n",
        "Create a child class that implements the abstract method(s)\n",
        "\n"
      ],
      "metadata": {
        "id": "tV1W5Enz6q6L"
      }
    },
    {
      "cell_type": "code",
      "source": [
        "from abc import ABC, abstractmethod\n",
        "\n",
        "# Step 1 & 2: Abstract class\n",
        "class Shape(ABC):\n",
        "\n",
        "    # Step 3: Abstract method\n",
        "    @abstractmethod\n",
        "    def area(self):\n",
        "        pass\n",
        "\n",
        "# Step 4: Concrete class\n",
        "class Circle(Shape):\n",
        "    def __init__(self, radius):\n",
        "        self.radius = radius\n",
        "\n",
        "    def area(self):\n",
        "        return 3.14 * self.radius * self.radius\n",
        "\n",
        "# Usage\n",
        "c = Circle(5)\n",
        "print(\"Area of Circle:\", c.area())\n"
      ],
      "metadata": {
        "colab": {
          "base_uri": "https://localhost:8080/"
        },
        "id": "Lyn_wy4H6oAQ",
        "outputId": "6aa05df4-e27d-411d-943e-3012339ae414"
      },
      "execution_count": 5,
      "outputs": [
        {
          "output_type": "stream",
          "name": "stdout",
          "text": [
            "Area of Circle: 78.5\n"
          ]
        }
      ]
    },
    {
      "cell_type": "markdown",
      "source": [
        "Q5. Can we create an instance of an abstract class? Explain your answer.\n",
        "\n",
        "Ans-No, we cannot create an instance of an abstract class.\n",
        "\n",
        "An abstract class is designed to be a blueprint for other classes and contains one or more abstract methods, which must be implemented by its subclasses.\n",
        "Since abstract methods are not implemented, an abstract class cannot be instantiated directly.\n",
        "\n"
      ],
      "metadata": {
        "id": "aiR25csm7cCI"
      }
    },
    {
      "cell_type": "code",
      "source": [
        "from abc import ABC, abstractmethod\n",
        "\n",
        "class Animal(ABC):\n",
        "    @abstractmethod\n",
        "    def make_sound(self):\n",
        "        pass\n",
        "\n",
        "# Cannot instantiate the abstract class Animal\n",
        "# animal = Animal()  # This will raise a TypeError\n"
      ],
      "metadata": {
        "id": "jmT71XDz7ZIB"
      },
      "execution_count": 6,
      "outputs": []
    },
    {
      "cell_type": "code",
      "source": [],
      "metadata": {
        "id": "kkCNSUjT7prh"
      },
      "execution_count": null,
      "outputs": []
    }
  ]
}