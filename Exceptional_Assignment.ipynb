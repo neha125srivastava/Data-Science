{
  "nbformat": 4,
  "nbformat_minor": 0,
  "metadata": {
    "colab": {
      "provenance": []
    },
    "kernelspec": {
      "name": "python3",
      "display_name": "Python 3"
    },
    "language_info": {
      "name": "python"
    }
  },
  "cells": [
    {
      "cell_type": "markdown",
      "source": [
        "Q1. What is an Exception in python? Write the difference between Exceptions and Syntax errors.\n",
        "\n",
        "Ans-An Exception in Python is an error that occurs during the execution of a program (i.e., at runtime). When an exception occurs, Python stops the normal flow of the program and executes the associated exception handling code (if provided).\n",
        "\n",
        "1.Exceptions occur at runtime, while syntax errors occur before the program starts running (during code parsing).\n",
        "\n",
        "2.Exceptions happen due to unexpected situations, like dividing by zero or trying to open a file that doesn’t exist.\n",
        "\n",
        "3.Syntax errors happen due to incorrect code structure, like missing colons, parentheses, or indentation mistakes.\n",
        "\n",
        "4.Exceptions can be handled using try-except blocks to prevent the program from crashing.\n",
        "\n",
        "5.Syntax errors must be fixed before running the code, otherwise the program won’t start at all.\n",
        "\n",
        "6.Examples of exceptions include ZeroDivisionError, FileNotFoundError, ValueError, etc.\n",
        "\n",
        "7.Examples of syntax errors include writing if True print(\"Hello\") (missing colon) or print(\"Hello\" (missing closing parenthesis).\n"
      ],
      "metadata": {
        "id": "gbTFOcyR68zd"
      }
    },
    {
      "cell_type": "code",
      "execution_count": 1,
      "metadata": {
        "colab": {
          "base_uri": "https://localhost:8080/"
        },
        "id": "NUfidUNc66au",
        "outputId": "21c4e133-3a56-4e58-98f5-5a0f04998e93"
      },
      "outputs": [
        {
          "output_type": "stream",
          "name": "stdout",
          "text": [
            "Program started\n",
            "Cannot divide by zero!\n",
            "Program ended\n"
          ]
        }
      ],
      "source": [
        "# Correct syntax\n",
        "print(\"Program started\")\n",
        "\n",
        "# Syntax Error example (uncomment to see the error)\n",
        "# print(\"Hello\"  # Missing closing parenthesis\n",
        "\n",
        "# Exception example (handled)\n",
        "try:\n",
        "    result = 10 / 0\n",
        "except ZeroDivisionError:\n",
        "\n",
        "    print(\"Cannot divide by zero!\")\n",
        "\n",
        "print(\"Program ended\")\n"
      ]
    },
    {
      "cell_type": "markdown",
      "source": [],
      "metadata": {
        "id": "1HZ5ZgXWTWUI"
      }
    },
    {
      "cell_type": "markdown",
      "source": [
        "Q2. What happens when an exception is not handled? Explain with an example.\n",
        "\n",
        "Ans. When an exception is not handled in Python, the program crashes and displays an error message (traceback). This means the normal flow of the program stops immediately at the point where the exception occurs, and the rest of the code is not executed."
      ],
      "metadata": {
        "id": "9pcZJ9KNTZ08"
      }
    },
    {
      "cell_type": "code",
      "source": [
        "print(\"Program started\")\n",
        "\n",
        "a = 10 / 0  # This causes ZeroDivisionError\n",
        "\n",
        "print(\"Program ended\")  # This line will not be executed\n",
        "\n"
      ],
      "metadata": {
        "colab": {
          "base_uri": "https://localhost:8080/",
          "height": 228
        },
        "id": "7SiHXWylT_tz",
        "outputId": "196bcc7b-6232-4797-e6ae-b28c8283815f"
      },
      "execution_count": 3,
      "outputs": [
        {
          "output_type": "stream",
          "name": "stdout",
          "text": [
            "Program started\n"
          ]
        },
        {
          "output_type": "error",
          "ename": "ZeroDivisionError",
          "evalue": "division by zero",
          "traceback": [
            "\u001b[0;31m---------------------------------------------------------------------------\u001b[0m",
            "\u001b[0;31mZeroDivisionError\u001b[0m                         Traceback (most recent call last)",
            "\u001b[0;32m<ipython-input-3-650c8e6a31b9>\u001b[0m in \u001b[0;36m<cell line: 0>\u001b[0;34m()\u001b[0m\n\u001b[1;32m      1\u001b[0m \u001b[0mprint\u001b[0m\u001b[0;34m(\u001b[0m\u001b[0;34m\"Program started\"\u001b[0m\u001b[0;34m)\u001b[0m\u001b[0;34m\u001b[0m\u001b[0;34m\u001b[0m\u001b[0m\n\u001b[1;32m      2\u001b[0m \u001b[0;34m\u001b[0m\u001b[0m\n\u001b[0;32m----> 3\u001b[0;31m \u001b[0ma\u001b[0m \u001b[0;34m=\u001b[0m \u001b[0;36m10\u001b[0m \u001b[0;34m/\u001b[0m \u001b[0;36m0\u001b[0m  \u001b[0;31m# This causes ZeroDivisionError\u001b[0m\u001b[0;34m\u001b[0m\u001b[0;34m\u001b[0m\u001b[0m\n\u001b[0m\u001b[1;32m      4\u001b[0m \u001b[0;34m\u001b[0m\u001b[0m\n\u001b[1;32m      5\u001b[0m \u001b[0mprint\u001b[0m\u001b[0;34m(\u001b[0m\u001b[0;34m\"Program ended\"\u001b[0m\u001b[0;34m)\u001b[0m  \u001b[0;31m# This line will not be executed\u001b[0m\u001b[0;34m\u001b[0m\u001b[0;34m\u001b[0m\u001b[0m\n",
            "\u001b[0;31mZeroDivisionError\u001b[0m: division by zero"
          ]
        }
      ]
    },
    {
      "cell_type": "markdown",
      "source": [
        "Q3. Which Python statements are used to catch and handle exceptions? Explain with an example.\n",
        "\n",
        "Ans. In Python, the statements used to catch and handle exceptions are:\n",
        "\n",
        "try\n",
        "\n",
        "except\n",
        "\n",
        "(optionally) else\n",
        "\n",
        "(optionally) finally"
      ],
      "metadata": {
        "id": "JM48M47CURPE"
      }
    },
    {
      "cell_type": "code",
      "source": [
        "try:\n",
        "    num = int(input(\"Enter a number: \"))\n",
        "    result = 10 / num\n",
        "    print(\"Result is:\", result)\n",
        "except ZeroDivisionError:\n",
        "    print(\"You can't divide by zero.\")\n",
        "except ValueError:\n",
        "    print(\"Please enter a valid number.\")\n",
        "else:\n",
        "    print(\"Division successful.\")\n",
        "finally:\n",
        "    print(\"This block always runs.\")\n"
      ],
      "metadata": {
        "colab": {
          "base_uri": "https://localhost:8080/"
        },
        "id": "mR_4M57JUE8A",
        "outputId": "a9e90c6b-b2f0-43da-eeb0-80aee6c5a2ba"
      },
      "execution_count": 4,
      "outputs": [
        {
          "output_type": "stream",
          "name": "stdout",
          "text": [
            "Enter a number: 5\n",
            "Result is: 2.0\n",
            "Division successful.\n",
            "This block always runs.\n"
          ]
        }
      ]
    },
    {
      "cell_type": "markdown",
      "source": [
        "Q4. Explain with an example:\n",
        " try and else\n",
        " finall\n",
        "  raise\n",
        "\n",
        "Ans. 1. try and else\n",
        "try: Used to write code that might cause an exception.\n",
        "\n",
        "else: Runs only if no exception occurs in the try block.\n",
        "\n",
        "2. finally\n",
        "Runs no matter what, whether an exception is raised or not.\n",
        "\n",
        "Useful for clean-up actions like closing files or connections.\n",
        "\n",
        "3. raise\n",
        "Used to manually raise an exception.\n",
        "\n",
        "Helpful when you want to trigger an error based on a condition.\n",
        "\n"
      ],
      "metadata": {
        "id": "b3pB1cHZUkM4"
      }
    },
    {
      "cell_type": "code",
      "source": [
        "def divide(a, b):\n",
        "    try:\n",
        "        if b == 0:\n",
        "            raise ZeroDivisionError(\"Cannot divide by zero\")  # manually raising\n",
        "        result = a / b\n",
        "    except ZeroDivisionError as e:\n",
        "        print(\"Exception caught:\", e)\n",
        "    else:\n",
        "        print(\"Division successful:\", result)\n",
        "    finally:\n",
        "        print(\"Execution of divide() is complete.\")\n",
        "\n",
        "# Test the function\n",
        "divide(10, 2)\n",
        "divide(10, 0)\n"
      ],
      "metadata": {
        "colab": {
          "base_uri": "https://localhost:8080/"
        },
        "id": "B1q4lpJ1UgB_",
        "outputId": "dcdb3bdf-120b-48ab-bcb3-41fce7a86804"
      },
      "execution_count": 5,
      "outputs": [
        {
          "output_type": "stream",
          "name": "stdout",
          "text": [
            "Division successful: 5.0\n",
            "Execution of divide() is complete.\n",
            "Exception caught: Cannot divide by zero\n",
            "Execution of divide() is complete.\n"
          ]
        }
      ]
    },
    {
      "cell_type": "markdown",
      "source": [
        "Q5. What are Custom Exceptions in python? Why do we need Custom Exceptions? Explain with an example.\n",
        "\n",
        "Ans.Custom exceptions in Python are user-defined exceptions that allow us to create specific error types for our applications. While Python provides built-in exceptions (like ZeroDivisionError, ValueError, etc.), sometimes we need to raise exceptions that are more relevant to the business logic of our application.\n",
        "\n",
        "To define a custom exception, you typically:\n",
        "\n",
        "Create a new class that inherits from Python's built-in Exception class (or any of its subclasses).\n",
        "\n",
        "Optionally, you can customize the exception with additional attributes or methods to make it more informative.\n",
        "\n",
        "Need-->\n",
        "    \n",
        "  Clarity: Custom exceptions help make error messages more meaningful and specific to the application context.\n",
        "\n",
        "Error Handling: They allow you to catch specific types of errors related to your application logic, improving error handling.\n",
        "\n",
        "Debugging: Custom exceptions provide more detailed information, which can aid in debugging"
      ],
      "metadata": {
        "id": "t_ZIhGS-VPrA"
      }
    },
    {
      "cell_type": "code",
      "source": [
        "# Define a custom exception\n",
        "class InsufficientFundsError(Exception):\n",
        "    def __init__(self, message=\"Insufficient funds to complete the transaction\"):\n",
        "        self.message = message\n",
        "        super().__init__(self.message)\n",
        "\n",
        "# Bank account class\n",
        "class BankAccount:\n",
        "    def __init__(self, balance):\n",
        "        self.balance = balance\n",
        "\n",
        "    def withdraw(self, amount):\n",
        "        if amount > self.balance:\n",
        "            raise InsufficientFundsError(\"You cannot withdraw more than the available balance.\")\n",
        "        else:\n",
        "            self.balance -= amount\n",
        "            print(f\"Withdrawal successful. Remaining balance: {self.balance}\")\n",
        "\n",
        "# Test the custom exception\n",
        "account = BankAccount(1000)\n",
        "\n",
        "try:\n",
        "    account.withdraw(1500)\n",
        "except InsufficientFundsError as e:\n",
        "    print(f\"Error: {e}\")\n",
        "\n"
      ],
      "metadata": {
        "colab": {
          "base_uri": "https://localhost:8080/"
        },
        "id": "ag6Vfg5ZVLSj",
        "outputId": "60a7fbc6-fc08-4b3b-bceb-0ff0df6a52d5"
      },
      "execution_count": 6,
      "outputs": [
        {
          "output_type": "stream",
          "name": "stdout",
          "text": [
            "Error: You cannot withdraw more than the available balance.\n"
          ]
        }
      ]
    },
    {
      "cell_type": "code",
      "source": [],
      "metadata": {
        "id": "AqTPnAGCVur5"
      },
      "execution_count": null,
      "outputs": []
    }
  ]
}