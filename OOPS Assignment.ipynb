{
  "nbformat": 4,
  "nbformat_minor": 0,
  "metadata": {
    "colab": {
      "provenance": []
    },
    "kernelspec": {
      "name": "python3",
      "display_name": "Python 3"
    },
    "language_info": {
      "name": "python"
    }
  },
  "cells": [
    {
      "cell_type": "markdown",
      "source": [
        "Q1, Create a vehicle class with an init method having instance variables as name_of_vehicle, max_speed\n",
        "and average_of_vehicle."
      ],
      "metadata": {
        "id": "YE8Iokpp0tCf"
      }
    },
    {
      "cell_type": "code",
      "execution_count": 1,
      "metadata": {
        "colab": {
          "base_uri": "https://localhost:8080/"
        },
        "id": "yFZJWK1U0flb",
        "outputId": "89c3d45f-285c-4829-ee47-e7699b905ee9"
      },
      "outputs": [
        {
          "output_type": "stream",
          "name": "stdout",
          "text": [
            "Vehicle Name: Toyota Fortuner\n",
            "Max Speed: 180\n",
            "Average: 12\n"
          ]
        }
      ],
      "source": [
        "class Vehicle:\n",
        "    def __init__(self, name_of_vehicle, max_speed, average_of_vehicle):\n",
        "        self.name_of_vehicle = name_of_vehicle\n",
        "        self.max_speed = max_speed\n",
        "        self.average_of_vehicle = average_of_vehicle\n",
        "car = Vehicle(\"Toyota Fortuner\", 180, 12)\n",
        "\n",
        "print(\"Vehicle Name:\", car.name_of_vehicle)\n",
        "print(\"Max Speed:\", car.max_speed)\n",
        "print(\"Average:\", car.average_of_vehicle)\n"
      ]
    },
    {
      "cell_type": "markdown",
      "source": [
        "Q2. Create a child class car from the vehicle class created in Que 1, which will inherit the vehicle class.\n",
        "Create a method named seating_capacity which takes capacity as an argument and returns the name of\n",
        "the vehicle and its seating capacity."
      ],
      "metadata": {
        "id": "5XGtPOhq1H4V"
      }
    },
    {
      "cell_type": "code",
      "source": [
        "# Parent class\n",
        "class Vehicle:\n",
        "    def __init__(self, name_of_vehicle, max_speed, average_of_vehicle):\n",
        "        self.name_of_vehicle = name_of_vehicle\n",
        "        self.max_speed = max_speed\n",
        "        self.average_of_vehicle = average_of_vehicle\n",
        "\n",
        "# Child class\n",
        "class Car(Vehicle):\n",
        "    def seating_capacity(self, capacity):\n",
        "        return f\"{self.name_of_vehicle} has a seating capacity of {capacity} people.\"\n",
        "my_car = Car(\"Honda City\", 220, 15)\n",
        "\n",
        "print(my_car.seating_capacity(5))\n"
      ],
      "metadata": {
        "colab": {
          "base_uri": "https://localhost:8080/"
        },
        "id": "xjtgZeEC1B4l",
        "outputId": "497a0a6d-5e7e-4931-84fd-7fc3ca809da0"
      },
      "execution_count": 2,
      "outputs": [
        {
          "output_type": "stream",
          "name": "stdout",
          "text": [
            "Honda City has a seating capacity of 5 people.\n"
          ]
        }
      ]
    },
    {
      "cell_type": "markdown",
      "source": [
        "Q3. What is multiple inheritance? Write a python code to demonstrate multiple inheritance.\n",
        "Ans - Multiple Inheritance is a feature in Python where a class can inherit from more than one parent class.\n",
        "This allows the child class to access methods and attributes from all parent classes."
      ],
      "metadata": {
        "id": "JkG3zoJs1ayq"
      }
    },
    {
      "cell_type": "code",
      "source": [
        "# Parent class 1\n",
        "class Engine:\n",
        "    def engine_type(self):\n",
        "        return \"Diesel Engine\"\n",
        "\n",
        "# Parent class 2\n",
        "class Wheels:\n",
        "    def number_of_wheels(self):\n",
        "        return 4\n",
        "\n",
        "# Child class\n",
        "class Car(Engine, Wheels):\n",
        "    def car_info(self):\n",
        "        return \"This is a car.\"\n",
        "\n",
        "# Create object of Car\n",
        "my_car = Car()\n",
        "\n",
        "# Accessing methods from both parent classes\n",
        "print(my_car.car_info())\n",
        "print(\"Engine Type:\", my_car.engine_type())\n",
        "print(\"Number of Wheels:\", my_car.number_of_wheels())\n"
      ],
      "metadata": {
        "colab": {
          "base_uri": "https://localhost:8080/"
        },
        "id": "RAGv_Lq41ZGO",
        "outputId": "f06b84b9-cfe5-4656-d1cb-1fcad6e5aee1"
      },
      "execution_count": 3,
      "outputs": [
        {
          "output_type": "stream",
          "name": "stdout",
          "text": [
            "This is a car.\n",
            "Engine Type: Diesel Engine\n",
            "Number of Wheels: 4\n"
          ]
        }
      ]
    },
    {
      "cell_type": "markdown",
      "source": [
        "Q4. What are getter and setter in python? Create a class and create a getter and a setter method in this\n",
        "class.\n",
        "\n",
        "Ans - A getter is used to access (read) the value of a private attribute.\n",
        "\n",
        "A setter is used to modify (write) the value of a private attribute.\n",
        "\n",
        "Typically used with encapsulation to protect direct access to class variables.\n",
        "\n"
      ],
      "metadata": {
        "id": "UPMulHe41xv0"
      }
    },
    {
      "cell_type": "code",
      "source": [
        "class Student:\n",
        "    def __init__(self, name):\n",
        "        self.__name = name  # private variable (using __)\n",
        "\n",
        "    # Getter method\n",
        "    def get_name(self):\n",
        "        return self.__name\n",
        "\n",
        "    # Setter method\n",
        "    def set_name(self, new_name):\n",
        "        self.__name = new_name\n",
        "s = Student(\"Neha\")\n",
        "\n",
        "print(\"Name (before):\", s.get_name())\n",
        "\n",
        "s.set_name(\"Aarav\")\n",
        "\n",
        "print(\"Name (after):\", s.get_name())\n"
      ],
      "metadata": {
        "colab": {
          "base_uri": "https://localhost:8080/"
        },
        "id": "C_qiQl771uvM",
        "outputId": "cc97e4c6-c382-484d-dfd1-649ae8d68c4d"
      },
      "execution_count": 4,
      "outputs": [
        {
          "output_type": "stream",
          "name": "stdout",
          "text": [
            "Name (before): Neha\n",
            "Name (after): Aarav\n"
          ]
        }
      ]
    },
    {
      "cell_type": "markdown",
      "source": [
        "Q5.What is method overriding in python? Write a python code to demonstrate method overriding.\n",
        "\n",
        "Ans - Method overriding occurs when a child class defines a method with the same name as a method in its parent class.\n",
        "The version in the child class replaces the one in the parent class when called through a child object."
      ],
      "metadata": {
        "id": "xhrgIj3B2NbZ"
      }
    },
    {
      "cell_type": "code",
      "source": [
        "# Parent class\n",
        "class Animal:\n",
        "    def sound(self):\n",
        "        return \"Some generic animal sound\"\n",
        "\n",
        "# Child class\n",
        "class Dog(Animal):\n",
        "    def sound(self):\n",
        "        return \"Bark\"\n",
        "\n",
        "# Another child class\n",
        "class Cat(Animal):\n",
        "    def sound(self):\n",
        "        return \"Meow\"\n",
        "a = Animal()\n",
        "d = Dog()\n",
        "c = Cat()\n",
        "\n",
        "print(a.sound())  # Output: Some generic animal sound\n",
        "print(d.sound())  # Output: Bark\n",
        "print(c.sound())  # Output: Meow\n"
      ],
      "metadata": {
        "colab": {
          "base_uri": "https://localhost:8080/"
        },
        "id": "bE6Fy2fJ2I5k",
        "outputId": "e204c5ce-e25c-471b-d8bc-e3322f2d32f2"
      },
      "execution_count": 5,
      "outputs": [
        {
          "output_type": "stream",
          "name": "stdout",
          "text": [
            "Some generic animal sound\n",
            "Bark\n",
            "Meow\n"
          ]
        }
      ]
    },
    {
      "cell_type": "code",
      "source": [],
      "metadata": {
        "id": "YC0dPiMC2c8e"
      },
      "execution_count": null,
      "outputs": []
    }
  ]
}