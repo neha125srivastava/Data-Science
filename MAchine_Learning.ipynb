{
  "nbformat": 4,
  "nbformat_minor": 0,
  "metadata": {
    "colab": {
      "provenance": []
    },
    "kernelspec": {
      "name": "python3",
      "display_name": "Python 3"
    },
    "language_info": {
      "name": "python"
    }
  },
  "cells": [
    {
      "cell_type": "markdown",
      "source": [
        "Q1: Explain the following with an example:F\n",
        "C) Artificial IntelligencJ\n",
        "<) Machine Learnin,\n",
        "I) Deep Learning\n",
        "\n",
        "Ans--C) Artificial Intelligence (AI)\n",
        "Definition:\n",
        "AI is the broad field of computer science focused on building machines that can think and act like humans.\n",
        "\n",
        "Example:\n",
        "\n",
        "A chess-playing program like Stockfish or AlphaZero that makes intelligent moves.\n",
        "\n",
        "Virtual assistants like Siri or Alexa.\n",
        "\n",
        "<) Machine Learning (ML)\n",
        "Definition:\n",
        "ML is a subset of AI where machines learn from data and improve performance without being explicitly programmed.\n",
        "\n",
        "Example:\n",
        "\n",
        "Email spam filter that learns which messages are spam based on user behavior.\n",
        "\n",
        "Netflix recommendations based on your watch history.\n",
        "\n",
        "I) Deep Learning (DL)\n",
        "Definition:\n",
        "DL is a subset of ML that uses neural networks with many layers to learn complex patterns from large amounts of data.\n",
        "\n",
        "Example:\n",
        "\n",
        "Face recognition in photos on Facebook.\n",
        "\n",
        "Self-driving cars detecting pedestrians, road signs, etc."
      ],
      "metadata": {
        "id": "Gfm3OWp0J815"
      }
    },
    {
      "cell_type": "markdown",
      "source": [
        "Q2: What is supervised learning? List some examples of supervised learning.\n",
        "\n",
        "Ans--Definition:\n",
        "Supervised learning is a type of machine learning where the model is trained on labeled data — that means each training example has an input and a correct output.\n",
        "\n",
        "The model learns to map inputs to outputs by comparing its predictions with the actual answers and improving over time.\n",
        "\n",
        "Real-Life Examples of Supervised Learning:\n",
        "Spam Detection\n",
        "\n",
        "Input: Email text\n",
        "\n",
        "Output: Spam or Not Spam\n",
        "\n",
        "House Price Prediction\n",
        "\n",
        "Input: Size, location, number of rooms\n",
        "\n",
        "Output: Price of the house\n",
        "\n",
        "Face Recognition\n",
        "\n",
        "Input: Image of a face\n",
        "\n",
        "Output: Person's name\n",
        "\n",
        "Sentiment Analysis\n",
        "\n",
        "Input: Movie review text\n",
        "\n",
        "Output: Positive or Negative sentiment\n",
        "\n",
        "Handwritten Digit Recognition (like MNIST)\n",
        "\n",
        "Input: Image of a digit\n",
        "\n",
        "Output: Digit (0–9)\n",
        "\n"
      ],
      "metadata": {
        "id": "8rNt8Wu-KMhj"
      }
    },
    {
      "cell_type": "markdown",
      "source": [
        "Q3: What is unsupervised learning? List some examples of unsupervised learning.\n",
        "\n",
        "Ans--Unsupervised learning is a type of machine learning where the model is given input data without any labels.\n",
        "The goal is to find patterns, groupings, or hidden structures in the data.\n",
        "\n",
        "Unlike supervised learning, there’s no correct output — the model learns on its own.\n",
        "\n",
        " Real-Life Examples of Unsupervised Learning:\n",
        "Customer Segmentation\n",
        "\n",
        "Grouping customers based on shopping behavior (e.g., frequent buyers vs. occasional shoppers)\n",
        "\n",
        "Market Basket Analysis\n",
        "\n",
        "Finding which products are often bought together (e.g., bread and butter)\n",
        "\n",
        "Anomaly Detection\n",
        "\n",
        "Detecting fraud or unusual activity in transactions or systems\n",
        "\n",
        "Topic Modeling\n",
        "\n",
        "Grouping articles or documents based on similar topics\n",
        "\n",
        "Image Compression\n",
        "\n",
        "Reducing image size by finding patterns and removing redundancy\n",
        "\n"
      ],
      "metadata": {
        "id": "eDdy1tf6KcQe"
      }
    },
    {
      "cell_type": "markdown",
      "source": [
        "Q4: What is the difference between AI, ML, DL, and DS?\n",
        "\n",
        "Ans-- AI (Artificial Intelligence)\n",
        "\n",
        "Meaning: Broad field of making machines simulate human intelligence.\n",
        "\n",
        "Focus: Decision making, problem-solving.\n",
        "\n",
        "Example: Self-driving cars, Siri.\n",
        "\n",
        "ML (Machine Learning)\n",
        "\n",
        "Meaning: Subset of AI, where machines learn from data to make predictions.\n",
        "\n",
        "Focus: Prediction and pattern recognition.\n",
        "\n",
        "Example: Email spam filters.\n",
        "\n",
        "DL (Deep Learning)\n",
        "\n",
        "Meaning: Subset of ML, using neural networks with many layers for complex pattern recognition.\n",
        "\n",
        "Focus: Learning from large data using neural networks.\n",
        "\n",
        "Example: Face recognition, ChatGPT.\n",
        "\n",
        "DS (Data Science)\n",
        "\n",
        "Meaning: Field that focuses on data analysis, cleaning, and visualization (often using AI/ML).\n",
        "\n",
        "Focus: Extracting insights from data.\n",
        "\n",
        "Example: Business forecasting, data dashboards.\n"
      ],
      "metadata": {
        "id": "ieQ_ov2cK3NR"
      }
    },
    {
      "cell_type": "markdown",
      "source": [],
      "metadata": {
        "id": "Ami4wWW4LJNS"
      }
    },
    {
      "cell_type": "markdown",
      "source": [
        "Q5: What are the main differences between Supervised, Unsupervised, and Semi-Supervised Learning?\n",
        "\n",
        "1. Supervised Learning\n",
        "Definition: The model is trained on labeled data (input-output pairs), meaning the correct answer is provided.\n",
        "\n",
        "Goal: Learn the mapping between input and output to make predictions on unseen data.\n",
        "\n",
        "Example: Email spam detection (labeled as spam or not spam).\n",
        "\n",
        "2. Unsupervised Learning\n",
        "Definition: The model is trained on unlabeled data, meaning no output is provided. The model must find patterns, relationships, or structures in the data on its own.\n",
        "\n",
        "Goal: Discover hidden patterns or groupings (e.g., clustering, anomaly detection).\n",
        "\n",
        "Example: Customer segmentation based on purchasing behavior.\n",
        "\n",
        "3. Semi-Supervised Learning\n",
        "Definition: Combines labeled and unlabeled data for training. A small amount of labeled data is used with a larger amount of unlabeled data.\n",
        "\n",
        "Goal: Leverage the large amount of unlabeled data to improve learning accuracy when labeled data is limited.\n",
        "\n",
        "Example: Image classification where only a few images are labeled, and the rest are unlabeled."
      ],
      "metadata": {
        "id": "3UJnM9H1LY7A"
      }
    },
    {
      "cell_type": "markdown",
      "source": [
        "Q6: What is Train, Test, and Validation Split?\n",
        "\n",
        "1. Train Split\n",
        "Definition: The training dataset is used to train the model. The model learns from this data, adjusting its weights (in case of neural networks) or coefficients (in case of linear models).\n",
        "\n",
        "Importance:\n",
        "\n",
        "This data allows the model to learn the relationships between features (inputs) and the target (output).\n",
        "\n",
        "If the training data is too small or unrepresentative, the model may not learn effectively.\n",
        "\n",
        "2. Test Split\n",
        "Definition: The test dataset is used to evaluate the model after it’s trained. It provides a final measure of how well the model generalizes to new, unseen data.\n",
        "\n",
        "Importance:\n",
        "\n",
        "It helps estimate the performance of the model in real-world scenarios.\n",
        "\n",
        "Ensures that the model has not memorized the training data (overfitting).\n",
        "\n",
        "3. Validation Split\n",
        "Definition: The validation dataset is used during the training process to fine-tune the model. It helps in adjusting hyperparameters (like learning rate, batch size, etc.) and preventing overfitting.\n",
        "\n",
        "Importance:\n",
        "\n",
        "Helps select the best model configuration by providing feedback on the model's performance at different stages.\n",
        "\n",
        "Used to perform early stopping (halt training when performance starts to degrade on validation data).\n",
        "\n",
        "Importance of Each Split:\n",
        "Training Data: Enables the model to learn patterns.\n",
        "\n",
        "Validation Data: Used during training to adjust the model, ensuring good generalization and avoiding overfitting.\n",
        "\n",
        "Test Data: Used at the end to evaluate the model’s final performance and simulate real-world data.\n",
        "\n"
      ],
      "metadata": {
        "id": "uigJyWJQLzLr"
      }
    },
    {
      "cell_type": "markdown",
      "source": [],
      "metadata": {
        "id": "58uS340qMBQU"
      }
    },
    {
      "cell_type": "code",
      "execution_count": null,
      "metadata": {
        "id": "Edhl5lZMJ28D"
      },
      "outputs": [],
      "source": []
    }
  ]
}