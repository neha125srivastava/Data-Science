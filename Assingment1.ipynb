{
  "nbformat": 4,
  "nbformat_minor": 0,
  "metadata": {
    "colab": {
      "provenance": [],
      "toc_visible": true
    },
    "kernelspec": {
      "name": "python3",
      "display_name": "Python 3"
    },
    "language_info": {
      "name": "python"
    }
  },
  "cells": [
    {
      "cell_type": "markdown",
      "source": [
        "Q1. Which keyword is used to create a function? Create a function to return a list of odd numbers in the\n",
        "range of 1 to 25.\n"
      ],
      "metadata": {
        "id": "AUEEcP7iNvmw"
      }
    },
    {
      "cell_type": "code",
      "source": [
        "def get_odd_numbers():\n",
        "    odd_numbers = []\n",
        "    for num in range(1, 26):\n",
        "        if num % 2 != 0:\n",
        "            odd_numbers.append(num)\n",
        "    return odd_numbers\n",
        "print(get_odd_numbers())"
      ],
      "metadata": {
        "colab": {
          "base_uri": "https://localhost:8080/"
        },
        "id": "FYTjbbWeNDiC",
        "outputId": "8e455e63-caab-475b-b356-96b9473db460"
      },
      "execution_count": 1,
      "outputs": [
        {
          "output_type": "stream",
          "name": "stdout",
          "text": [
            "[1, 3, 5, 7, 9, 11, 13, 15, 17, 19, 21, 23, 25]\n"
          ]
        }
      ]
    },
    {
      "cell_type": "markdown",
      "source": [
        "Q2. Why *args and **kwargs is used in some functions? Create a function each for *args and **kwargs\n",
        "to demonstrate their use."
      ],
      "metadata": {
        "id": "3yKr-O1CkTeL"
      }
    },
    {
      "cell_type": "code",
      "source": [
        "def sum_all(*args):\n",
        "    total = 0\n",
        "    for num in args:\n",
        "        total += num\n",
        "    return total\n",
        "print(sum_all(1, 2, 3, 4, 5))"
      ],
      "metadata": {
        "colab": {
          "base_uri": "https://localhost:8080/"
        },
        "id": "h2L1db1ekB53",
        "outputId": "25fb0b7c-10e5-4f0b-aff1-ecb47a7a04a3"
      },
      "execution_count": 2,
      "outputs": [
        {
          "output_type": "stream",
          "name": "stdout",
          "text": [
            "15\n"
          ]
        }
      ]
    },
    {
      "cell_type": "markdown",
      "source": [],
      "metadata": {
        "id": "RUDlUAgqrP4R"
      }
    },
    {
      "cell_type": "markdown",
      "source": [
        "Q3. What is an iterator in python? Name the method used to initialise the iterator object and the method\n",
        "used for iteration. Use these methods to print the first five elements of the given list [2, 4, 6, 8, 10, 12, 14,\n",
        "16, 18, 20].\n",
        "\n",
        "Ans - An iterator is an object in Python that allows you to traverse through all the elements of a collection (like a list or tuple), one element at a time.\n"
      ],
      "metadata": {
        "id": "WgJixFmAlOAv"
      }
    },
    {
      "cell_type": "code",
      "source": [
        "# Given list\n",
        "my_list = [2, 4, 6, 8, 10, 12, 14, 16, 18, 20]\n",
        "\n",
        "# Create an iterator\n",
        "my_iterator = iter(my_list)\n",
        "\n",
        "# Print first five elements using next()\n",
        "for _ in range(5):\n",
        "    print(next(my_iterator))\n",
        "\n"
      ],
      "metadata": {
        "colab": {
          "base_uri": "https://localhost:8080/"
        },
        "id": "RgXlZAjHlKGJ",
        "outputId": "c6c02776-a98b-424f-a8fb-0ca98007e846"
      },
      "execution_count": 3,
      "outputs": [
        {
          "output_type": "stream",
          "name": "stdout",
          "text": [
            "2\n",
            "4\n",
            "6\n",
            "8\n",
            "10\n"
          ]
        }
      ]
    },
    {
      "cell_type": "markdown",
      "source": [
        "Q4. What is a generator function in python? Why yield keyword is used? Give an example of a generator\n",
        "function."
      ],
      "metadata": {
        "id": "oEJWLbUxmKhV"
      }
    },
    {
      "cell_type": "markdown",
      "source": [
        "Ans- A generator function is a special type of function that\n",
        "returns an iterator, but instead of using return, it uses the yield keyword to return values one at a time, on demand.\n",
        "\n",
        "yield pauses the function and remembers its state, so it can continue from where it left off the next time it's called.\n",
        "\n",
        "It is memory-efficient because it doesn't store all values in memory — it generates them on the fly."
      ],
      "metadata": {
        "id": "9PD49NtWmU6k"
      }
    },
    {
      "cell_type": "code",
      "source": [
        "def odd_number_generator():\n",
        "    for num in range(1, 26):\n",
        "        if num % 2 != 0:\n",
        "            yield num\n",
        "\n",
        "# Using the generator\n",
        "odd_gen = odd_number_generator()\n",
        "\n",
        "# Print generated odd numbers\n",
        "for number in odd_gen:\n",
        "    print(number)\n"
      ],
      "metadata": {
        "colab": {
          "base_uri": "https://localhost:8080/"
        },
        "id": "uNJV6s_gmF3l",
        "outputId": "e5db83e4-e949-47e1-8b48-7196eb8be15f"
      },
      "execution_count": 4,
      "outputs": [
        {
          "output_type": "stream",
          "name": "stdout",
          "text": [
            "1\n",
            "3\n",
            "5\n",
            "7\n",
            "9\n",
            "11\n",
            "13\n",
            "15\n",
            "17\n",
            "19\n",
            "21\n",
            "23\n",
            "25\n"
          ]
        }
      ]
    },
    {
      "cell_type": "markdown",
      "source": [
        "Q5. Create a generator function for prime numbers less than 1000. Use the next() method to print the\n",
        "first 20 prime numbers."
      ],
      "metadata": {
        "id": "ipLzkk9Mns9s"
      }
    },
    {
      "cell_type": "code",
      "source": [
        "def prime_generator():\n",
        "    for num in range(2, 1000):\n",
        "        for i in range(2, int(num ** 0.5) + 1):\n",
        "            if num % i == 0:\n",
        "                break\n",
        "        else:\n",
        "            yield num\n",
        " # Create the generator object\n",
        "primes = prime_generator()\n",
        "\n",
        "# Print first 20 prime numbers\n",
        "for _ in range(20):\n",
        "    print(next(primes))\n"
      ],
      "metadata": {
        "colab": {
          "base_uri": "https://localhost:8080/"
        },
        "id": "fIcOM_nFnrSA",
        "outputId": "48d1fdbf-f2f0-405a-db15-704953544932"
      },
      "execution_count": 6,
      "outputs": [
        {
          "output_type": "stream",
          "name": "stdout",
          "text": [
            "2\n",
            "3\n",
            "5\n",
            "7\n",
            "11\n",
            "13\n",
            "17\n",
            "19\n",
            "23\n",
            "29\n",
            "31\n",
            "37\n",
            "41\n",
            "43\n",
            "47\n",
            "53\n",
            "59\n",
            "61\n",
            "67\n",
            "71\n"
          ]
        }
      ]
    },
    {
      "cell_type": "markdown",
      "source": [
        "Q6. Write a python program to print the first 10 Fibonacci numbers using a while loop."
      ],
      "metadata": {
        "id": "4ZehO-5Ln6dR"
      }
    },
    {
      "cell_type": "code",
      "source": [
        "# Initialize first two Fibonacci numbers\n",
        "a, b = 0, 1\n",
        "count = 0\n",
        "\n",
        "# Print first 10 Fibonacci numbers\n",
        "while count < 10:\n",
        "    print(a)\n",
        "    a, b = b, a + b\n",
        "    count += 1\n",
        "\n"
      ],
      "metadata": {
        "colab": {
          "base_uri": "https://localhost:8080/"
        },
        "id": "YlUJCWsMn4oH",
        "outputId": "7b10fd60-2af0-4b71-f5c9-f657e1299825"
      },
      "execution_count": 7,
      "outputs": [
        {
          "output_type": "stream",
          "name": "stdout",
          "text": [
            "0\n",
            "1\n",
            "1\n",
            "2\n",
            "3\n",
            "5\n",
            "8\n",
            "13\n",
            "21\n",
            "34\n"
          ]
        }
      ]
    },
    {
      "cell_type": "markdown",
      "source": [
        "Q7. Write a List Comprehension to iterate through the given string: ‘pwskills’.\n",
        "Expected output: ['p', 'w', 's', 'k', 'i', 'l', 'l', 's']"
      ],
      "metadata": {
        "id": "Kco3a1rOrhgC"
      }
    },
    {
      "cell_type": "code",
      "source": [
        "output = [char for char in 'pwskills']\n",
        "print(output)\n"
      ],
      "metadata": {
        "colab": {
          "base_uri": "https://localhost:8080/"
        },
        "id": "_kR7LS-Qq56A",
        "outputId": "a16d57b6-7b5d-4dd4-fb2a-47bc54fb036b"
      },
      "execution_count": 8,
      "outputs": [
        {
          "output_type": "stream",
          "name": "stdout",
          "text": [
            "['p', 'w', 's', 'k', 'i', 'l', 'l', 's']\n"
          ]
        }
      ]
    },
    {
      "cell_type": "markdown",
      "source": [
        "Q8. Write a python program to check whether a given number is Palindrome or not using a while loop."
      ],
      "metadata": {
        "id": "ZfFcWJ2-r8aI"
      }
    },
    {
      "cell_type": "code",
      "source": [
        "# Input from user\n",
        "num = int(input(\"Enter a number: \"))\n",
        "original_num = num\n",
        "reversed_num = 0\n",
        "\n",
        "# Reverse the number using while loop\n",
        "while num > 0:\n",
        "    digit = num % 10\n",
        "    reversed_num = reversed_num * 10 + digit\n",
        "    num = num // 10\n",
        "\n",
        "# Check for palindrome\n",
        "if original_num == reversed_num:\n",
        "    print(f\"{original_num} is a Palindrome number.\")\n",
        "else:\n",
        "    print(f\"{original_num} is NOT a Palindrome number.\")\n"
      ],
      "metadata": {
        "colab": {
          "base_uri": "https://localhost:8080/"
        },
        "id": "5mVvBFsur1dd",
        "outputId": "860befa8-16de-4d47-8c55-d958924ef8dc"
      },
      "execution_count": 10,
      "outputs": [
        {
          "output_type": "stream",
          "name": "stdout",
          "text": [
            "Enter a number: 121\n",
            "121 is a Palindrome number.\n"
          ]
        }
      ]
    },
    {
      "cell_type": "markdown",
      "source": [
        "Q9. Write a code to print odd numbers from 1 to 100 using list comprehension.\n",
        "Note: Use a list comprehension to create a list from 1 to 100 and use another List comprehension to filter\n",
        "out odd numbers."
      ],
      "metadata": {
        "id": "jzH6rFLnsPsu"
      }
    },
    {
      "cell_type": "code",
      "source": [
        "# Step 1: Create a list from 1 to 100\n",
        "numbers = [i for i in range(1, 101)]\n",
        "\n",
        "# Step 2: Filter odd numbers\n",
        "odd_numbers = [num for num in numbers if num % 2 != 0]\n",
        "\n",
        "# Print result\n",
        "print(odd_numbers)\n"
      ],
      "metadata": {
        "colab": {
          "base_uri": "https://localhost:8080/"
        },
        "id": "t0_utcQAsDCL",
        "outputId": "258bdb08-afde-4c0b-e2f2-0ca1ac0d3e65"
      },
      "execution_count": 11,
      "outputs": [
        {
          "output_type": "stream",
          "name": "stdout",
          "text": [
            "[1, 3, 5, 7, 9, 11, 13, 15, 17, 19, 21, 23, 25, 27, 29, 31, 33, 35, 37, 39, 41, 43, 45, 47, 49, 51, 53, 55, 57, 59, 61, 63, 65, 67, 69, 71, 73, 75, 77, 79, 81, 83, 85, 87, 89, 91, 93, 95, 97, 99]\n"
          ]
        }
      ]
    },
    {
      "cell_type": "code",
      "source": [],
      "metadata": {
        "id": "G9rMhLS1sXY5"
      },
      "execution_count": null,
      "outputs": []
    }
  ]
}