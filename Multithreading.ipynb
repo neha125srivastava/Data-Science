{
  "nbformat": 4,
  "nbformat_minor": 0,
  "metadata": {
    "colab": {
      "provenance": []
    },
    "kernelspec": {
      "name": "python3",
      "display_name": "Python 3"
    },
    "language_info": {
      "name": "python"
    }
  },
  "cells": [
    {
      "cell_type": "markdown",
      "source": [
        "Q1. What is multithreading in python? Why is it used? Name the module used to handle threads in python.\n",
        "\n",
        "Ans-Multithreading is a programming technique where multiple threads (smaller units of a process) run concurrently within a single process. In Python, multithreading allows different parts of a program to run independently at the same time.\n",
        "\n",
        "Multithreading is used to:\n",
        "\n",
        "Improve performance in I/O-bound tasks (like file handling, web requests, etc.).\n",
        "\n",
        "Run multiple operations concurrently, such as downloading files while processing data.\n",
        "\n",
        "Make programs more responsive, especially in GUI applications or servers.\n",
        "\n",
        "Module Used to Handle Threads in Python\n",
        "Python provides a built-in module called threading to handle threads."
      ],
      "metadata": {
        "id": "-gsOriK5oluM"
      }
    },
    {
      "cell_type": "code",
      "execution_count": null,
      "metadata": {
        "id": "awZfw6uFojnE"
      },
      "outputs": [],
      "source": [
        "import threading\n",
        "\n",
        "def print_numbers():\n",
        "    for i in range(5):\n",
        "        print(i)\n",
        "\n",
        "# Create a thread\n",
        "t = threading.Thread(target=print_numbers)\n",
        "\n",
        "# Start the thread\n",
        "t.start()\n",
        "\n",
        "# Wait for the thread to finish\n",
        "t.join()\n"
      ]
    },
    {
      "cell_type": "markdown",
      "source": [
        "Q2. Why threading module used? Write the use of the following functions\n",
        "( activeCount(\n",
        " currentThread(\n",
        " enumerate()\n",
        "\n",
        " Ans-The threading module in Python is used to create and manage threads. It allows developers to:\n",
        "\n",
        "Run multiple threads concurrently (especially useful for I/O-bound tasks).\n",
        "\n",
        "Improve the efficiency and responsiveness of applications.\n",
        "\n",
        "Manage thread creation, synchronization, and communication easily.\n",
        "\n",
        "It abstracts many low-level details and provides a simple and high-level interface to work with threads.\n",
        "\n",
        "Use of the following functions:\n",
        "🔹 threading.activeCount()\n",
        "Purpose: Returns the number of Thread objects that are currently alive (active).\n",
        "\n",
        "Use Case: Helpful to track how many threads are currently running.\n",
        "\n",
        "🔹 threading.enumerate()\n",
        "Purpose: Returns a list of all active Thread objects.\n",
        "\n",
        "Use Case: Useful for debugging or managing all running threads.\n",
        "\n",
        "🔹 threading.currentThread()\n",
        "(In Python 3.10+, use threading.current_thread() instead — it's the updated version)\n",
        "\n",
        "Purpose: Returns the Thread object representing the current thread of execution.\n",
        "\n",
        "Use Case: Used when you want to get information about the currently running thread."
      ],
      "metadata": {
        "id": "SauCMr-ypPrU"
      }
    },
    {
      "cell_type": "code",
      "source": [
        "import threading\n",
        "\n",
        "print(\"Active Threads:\", threading.activeCount())\n",
        "\n",
        "import threading\n",
        "\n",
        "print(\"Current Thread:\", threading.current_thread().name)\n",
        "\n",
        "import threading\n",
        "\n",
        "print(\"List of Threads:\")\n",
        "for t in threading.enumerate():\n",
        "    print(t.name)\n"
      ],
      "metadata": {
        "colab": {
          "base_uri": "https://localhost:8080/"
        },
        "id": "ERwOVEOrp10l",
        "outputId": "2f9b1d12-e785-4f6d-d8bb-dce589339796"
      },
      "execution_count": 1,
      "outputs": [
        {
          "output_type": "stream",
          "name": "stdout",
          "text": [
            "Active Threads: 3\n",
            "Current Thread: MainThread\n",
            "List of Threads:\n",
            "MainThread\n",
            "Thread-2\n",
            "_colab_inspector_thread\n"
          ]
        },
        {
          "output_type": "stream",
          "name": "stderr",
          "text": [
            "<ipython-input-1-5a0f0f62e3fb>:3: DeprecationWarning: activeCount() is deprecated, use active_count() instead\n",
            "  print(\"Active Threads:\", threading.activeCount())\n"
          ]
        }
      ]
    },
    {
      "cell_type": "markdown",
      "source": [
        "Q3. Explain the following functions\n",
        "( run(\n",
        " start(\n",
        " join(\n",
        "' isAlive()\n",
        "\n",
        "Ans-These are methods used with Thread objects in the threading module to manage thread execution.\n",
        "\n",
        "🔹 run()\n",
        "Description: Defines the activity performed by the thread.\n",
        "\n",
        "Usage: You don’t call run() directly — it is called automatically when you use start().\n",
        "\n",
        "If you call it directly, the thread code will run in the main thread, not in a separate one.\n",
        "\n",
        "🔹 start()\n",
        "Description: Starts the execution of a thread in a new thread of control.\n",
        "\n",
        "Internally calls the run() method.\n",
        "\n",
        "Must be called once per thread object.\n",
        "\n",
        "🔹 join() Description: Waits for the thread to finish execution before moving on.\n",
        "\n",
        "Blocks the calling thread (usually the main thread) until the thread it’s called on is done.\n",
        "\n",
        " isAlive() (Deprecated in Python 3.9+, use is_alive() instead) Description: Returns True if the thread is still running, else False.\n",
        "\n",
        "Use Case: Check the status of a thread."
      ],
      "metadata": {
        "id": "enMCSlXoqH8h"
      }
    },
    {
      "cell_type": "code",
      "source": [
        "import threading\n",
        "\n",
        "class MyThread(threading.Thread):\n",
        "    def run(self):\n",
        "        print(\"Thread is running\")\n",
        "\n",
        "t = MyThread()\n",
        "t.run()  # Not a separate thread\n",
        "\n",
        "t = MyThread()\n",
        "t.start()  # This runs the thread in parallel\n",
        "\n",
        "t = MyThread()\n",
        "t.start()\n",
        "t.join()\n",
        "print(\"Thread has finished\")\n",
        "print(\"Is thread alive?\", t.is_alive())\n",
        "\n"
      ],
      "metadata": {
        "colab": {
          "base_uri": "https://localhost:8080/"
        },
        "id": "H4BbfX_nqb-h",
        "outputId": "3056bfc2-00de-427f-e9dd-af7e632d83cc"
      },
      "execution_count": 4,
      "outputs": [
        {
          "output_type": "stream",
          "name": "stdout",
          "text": [
            "Thread is running\n",
            "Thread is running\n",
            "Thread is running\n",
            "Thread has finished\n",
            "Is thread alive? False\n"
          ]
        }
      ]
    },
    {
      "cell_type": "markdown",
      "source": [
        "Q4. Write a python program to create two threads. Thread one must print the list of squares and thread\n",
        "two must print the list of cubes."
      ],
      "metadata": {
        "id": "_pnBOjEvrjBx"
      }
    },
    {
      "cell_type": "code",
      "source": [
        "import threading\n",
        "\n",
        "# Function to print squares\n",
        "def print_squares():\n",
        "    for i in range(1, 6):\n",
        "        print(f\"Square of {i}: {i ** 2}\")\n",
        "\n",
        "# Function to print cubes\n",
        "def print_cubes():\n",
        "    for i in range(1, 6):\n",
        "        print(f\"Cube of {i}: {i ** 3}\")\n",
        "\n",
        "# Creating threads\n",
        "thread1 = threading.Thread(target=print_squares)\n",
        "thread2 = threading.Thread(target=print_cubes)\n",
        "\n",
        "# Starting threads\n",
        "thread1.start()\n",
        "thread2.start()\n",
        "\n",
        "# Waiting for both threads to complete\n",
        "thread1.join()\n",
        "thread2.join()\n",
        "\n",
        "print(\"Both threads have finished execution.\")\n"
      ],
      "metadata": {
        "colab": {
          "base_uri": "https://localhost:8080/"
        },
        "id": "plfXR0cprs8o",
        "outputId": "5e66c6fe-c0c5-4c10-9d0d-42204f01095c"
      },
      "execution_count": 5,
      "outputs": [
        {
          "output_type": "stream",
          "name": "stdout",
          "text": [
            "Square of 1: 1\n",
            "Square of 2: 4\n",
            "Square of 3: 9\n",
            "Square of 4: 16\n",
            "Square of 5: 25\n",
            "Cube of 1: 1\n",
            "Cube of 2: 8\n",
            "Cube of 3: 27\n",
            "Cube of 4: 64\n",
            "Cube of 5: 125\n",
            "Both threads have finished execution.\n"
          ]
        }
      ]
    },
    {
      "cell_type": "markdown",
      "source": [
        "Q5. State advantages and disadvantages of multithreading.\n",
        "\n",
        "Ans- Advantages of Multithreading:\n",
        "Improved Performance (for I/O-bound tasks)\n",
        "\n",
        "Threads can handle tasks like file I/O, user input, or network requests in parallel, leading to faster execution.\n",
        "\n",
        "Better Resource Utilization\n",
        "\n",
        "Threads share the same memory space of the process, reducing memory usage compared to multiprocessing.\n",
        "\n",
        "Responsiveness\n",
        "\n",
        "In GUI or server applications, multithreading helps keep the interface or service responsive while doing background tasks.\n",
        "\n",
        "Simplified Program Structure\n",
        "\n",
        "Background operations (like autosaving or real-time updates) can be handled separately without interrupting the main flow.\n",
        "\n",
        "Concurrency\n",
        "\n",
        "Allows multiple tasks to be performed at the same time, improving efficiency for certain types of workloads.\n",
        "\n",
        "\n",
        "Disadvantages of Multithreading:\n",
        "Global Interpreter Lock (GIL) in Python\n",
        "\n",
        "Due to the GIL, only one thread executes Python bytecode at a time, limiting performance benefits for CPU-bound tasks.\n",
        "\n",
        "Complex Debugging and Testing\n",
        "\n",
        "Bugs like race conditions and deadlocks are harder to detect and fix in multithreaded programs.\n",
        "\n",
        "Increased Complexity\n",
        "\n",
        "Writing and managing threads (especially with synchronization) can make code more difficult to read and maintain.\n",
        "\n",
        "Not Always Faster\n",
        "\n",
        "For CPU-intensive tasks, using threads may not provide performance gains — sometimes even makes things slower.\n",
        "\n",
        "Shared Data Issues\n",
        "\n",
        "Since threads share the same memory space, care must be taken to safely manage shared data using locks or other mechanisms."
      ],
      "metadata": {
        "id": "Nl7DE03urwHv"
      }
    },
    {
      "cell_type": "markdown",
      "source": [
        "Q6. Explain deadlocks and race conditions.\n",
        "\n",
        "Ans- A deadlock occurs when two or more threads are waiting for each other to release a resource, and none of them can proceed.\n",
        "\n",
        "Example Scenario:\n",
        "Thread A locks Resource 1 and waits for Resource 2\n",
        "\n",
        "Thread B locks Resource 2 and waits for Resource 1-\n",
        " Now both are stuck waiting — this is a deadlock.\n",
        "\n",
        " Real-life analogy:\n",
        "Two people are trying to pass through a narrow hallway from opposite directions. Both refuse to back up to let the other go — they’re stuck!"
      ],
      "metadata": {
        "id": "FW8_AbmlsGCh"
      }
    },
    {
      "cell_type": "code",
      "source": [
        "import threading\n",
        "\n",
        "lock1 = threading.Lock()\n",
        "lock2 = threading.Lock()\n",
        "\n",
        "def thread1():\n",
        "    lock1.acquire()\n",
        "    print(\"Thread 1 acquired lock1\")\n",
        "    lock2.acquire()\n",
        "    print(\"Thread 1 acquired lock2\")\n",
        "    lock2.release()\n",
        "    lock1.release()\n",
        "\n",
        "def thread2():\n",
        "    lock2.acquire()\n",
        "    print(\"Thread 2 acquired lock2\")\n",
        "    lock1.acquire()\n",
        "    print(\"Thread 2 acquired lock1\")\n",
        "    lock1.release()\n",
        "    lock2.release()\n",
        "\n",
        "t1 = threading.Thread(target=thread1)\n",
        "t2 = threading.Thread(target=thread2)\n",
        "\n",
        "t1.start()\n",
        "t2.start()\n"
      ],
      "metadata": {
        "colab": {
          "base_uri": "https://localhost:8080/"
        },
        "id": "jM0Y6ia5sZkb",
        "outputId": "eeb516e5-7e8f-476a-89d5-f05fd0ea0eb0"
      },
      "execution_count": 7,
      "outputs": [
        {
          "output_type": "stream",
          "name": "stdout",
          "text": [
            "Thread 1 acquired lock1\n",
            "Thread 1 acquired lock2\n",
            "Thread 2 acquired lock2\n",
            "Thread 2 acquired lock1\n"
          ]
        }
      ]
    },
    {
      "cell_type": "markdown",
      "source": [
        " Race Condition\n",
        "Definition:\n",
        "A race condition occurs when multiple threads access shared data and try to change it at the same time, leading to unpredictable results.\n",
        "\n",
        "Why It Happens:\n",
        "Because threads \"race\" to read/write a shared variable, and the outcome depends on which thread gets there first."
      ],
      "metadata": {
        "id": "JVnENajQsfbt"
      }
    },
    {
      "cell_type": "code",
      "source": [
        "import threading\n",
        "\n",
        "counter = 0\n",
        "\n",
        "def increment():\n",
        "    global counter\n",
        "    for _ in range(100000):\n",
        "        counter += 1\n",
        "\n",
        "threads = []\n",
        "for i in range(2):\n",
        "    t = threading.Thread(target=increment)\n",
        "    threads.append(t)\n",
        "    t.start()\n",
        "\n",
        "for t in threads:\n",
        "    t.join()\n",
        "\n",
        "print(\"Final counter value:\", counter)\n"
      ],
      "metadata": {
        "colab": {
          "base_uri": "https://localhost:8080/"
        },
        "id": "5Gh5Iu46skFb",
        "outputId": "b8cb46e5-5b04-417f-fe6e-6a1eb4cd3c87"
      },
      "execution_count": 6,
      "outputs": [
        {
          "output_type": "stream",
          "name": "stdout",
          "text": [
            "Final counter value: 200000\n"
          ]
        }
      ]
    }
  ]
}