{
  "nbformat": 4,
  "nbformat_minor": 0,
  "metadata": {
    "colab": {
      "provenance": []
    },
    "kernelspec": {
      "name": "python3",
      "display_name": "Python 3"
    },
    "language_info": {
      "name": "python"
    }
  },
  "cells": [
    {
      "cell_type": "markdown",
      "source": [
        "Q1. What is multiprocessing in python? Why is it useful?\n",
        "\n",
        "Ans- Multiprocessing is a Python module that allows the parallel execution of tasks using multiple CPU cores. It creates separate processes, each with its own Python interpreter and memory space.\n",
        "\n",
        "It’s different from multithreading because threads share the same memory space, while processes are independent and don't interfere with each other.\n",
        "\n",
        " Why is it Useful?\n",
        "\n",
        "--Bypasses GIL (Global Interpreter Lock)\n",
        "Python's GIL allows only one thread to execute at a time—even on multi-core CPUs. Multiprocessing avoids this by using separate processes, allowing true parallelism.\n",
        "\n",
        "Faster Execution for CPU-bound Tasks\n",
        "Great for tasks like:\n",
        "\n",
        "Mathematical calculations\n",
        "\n",
        "Data processing\n",
        "\n",
        "Image/video rendering\n",
        "\n",
        "Anything that uses a lot of CPU\n",
        "\n",
        "Better CPU Utilization\n",
        "You can utilize all available cores of your system, making full use of your hardware.\n",
        "\n",
        "Improves Performance\n",
        "Tasks that would take a long time serially can be split and processed faster in parallel.\n",
        "\n"
      ],
      "metadata": {
        "id": "mX-E687sG5ug"
      }
    },
    {
      "cell_type": "code",
      "execution_count": null,
      "metadata": {
        "id": "IVYlZzXuG1Ij"
      },
      "outputs": [],
      "source": [
        "import multiprocessing\n",
        "\n",
        "def square(n):\n",
        "    print(f\"{n}² = {n*n}\")\n",
        "\n",
        "if __name__ == \"__main__\":\n",
        "    numbers = [1, 2, 3, 4]\n",
        "    processes = []\n",
        "\n",
        "    for num in numbers:\n",
        "        p = multiprocessing.Process(target=square, args=(num,))\n",
        "        processes.append(p)\n",
        "        p.start()\n",
        "\n",
        "    for p in processes:\n",
        "        p.join()\n"
      ]
    },
    {
      "cell_type": "markdown",
      "source": [
        "Q2. What are the differences between multiprocessing and multithreading?\n",
        "\n",
        "Ans--Memory Usage:\n",
        "\n",
        "Multiprocessing uses separate memory space for each process.\n",
        "\n",
        "Multithreading shares the same memory space between threads.\n",
        "\n",
        "Parallelism & GIL:\n",
        "\n",
        "Multiprocessing achieves true parallelism and bypasses GIL.\n",
        "\n",
        "Multithreading is affected by GIL, so it runs threads one at a time in Python.\n",
        "\n",
        "Best Use Case:\n",
        "\n",
        "Multiprocessing is better for CPU-bound tasks (e.g., heavy computations).\n",
        "\n",
        "Multithreading is better for I/O-bound tasks (e.g., file or network operations)."
      ],
      "metadata": {
        "id": "9lRQ2F8kHeDL"
      }
    },
    {
      "cell_type": "markdown",
      "source": [
        "Q3. Write a python code to create a process using the multiprocessing module."
      ],
      "metadata": {
        "id": "R2LEBVVWH3aP"
      }
    },
    {
      "cell_type": "code",
      "source": [
        "import multiprocessing\n",
        "\n",
        "def print_message():\n",
        "    print(\"Hello from a separate process!\")\n",
        "\n",
        "if __name__ == \"__main__\":\n",
        "    # Create a Process\n",
        "    p = multiprocessing.Process(target=print_message)\n",
        "\n",
        "    # Start the Process\n",
        "    p.start()\n",
        "\n",
        "    # Wait for the Process to finish\n",
        "    p.join()\n",
        "\n",
        "    print(\"Process finished.\")\n"
      ],
      "metadata": {
        "id": "vdzNeUK2IDzw"
      },
      "execution_count": null,
      "outputs": []
    },
    {
      "cell_type": "markdown",
      "source": [
        "Q4. What is a multiprocessing pool in python? Why is it used?\n",
        "\n",
        "Ans-- A multiprocessing Pool in Python is a way to manage a pool of worker processes that can execute tasks in parallel. It helps distribute the workload across multiple CPU cores automatically.\n",
        "\n",
        "Why is it Used?\n",
        "Simplifies parallel execution:\n",
        "Easily run the same function on multiple inputs (like in a loop) concurrently.\n",
        "\n",
        "Efficient resource management:\n",
        "Pool creates a fixed number of worker processes, avoiding the overhead of creating and destroying processes repeatedly.\n",
        "\n",
        "Improves performance:\n",
        "Ideal for tasks like data processing, computations, or simulations that can be split into parts."
      ],
      "metadata": {
        "id": "ILVXMLy_IHBR"
      }
    },
    {
      "cell_type": "code",
      "source": [
        "from multiprocessing import Pool\n",
        "\n",
        "def square(n):\n",
        "    return n * n\n",
        "\n",
        "if __name__ == \"__main__\":\n",
        "    numbers = [1, 2, 3, 4, 5]\n",
        "\n",
        "    with Pool(processes=3) as pool:\n",
        "        results = pool.map(square, numbers)\n",
        "\n",
        "    print(results)  # Output: [1, 4, 9, 16, 25]\n"
      ],
      "metadata": {
        "id": "iEmlCdpmIOrn"
      },
      "execution_count": null,
      "outputs": []
    },
    {
      "cell_type": "markdown",
      "source": [
        "Q5. How can we create a pool of worker processes in python using the multiprocessing module?"
      ],
      "metadata": {
        "id": "V-gKhyQZIc5w"
      }
    },
    {
      "cell_type": "code",
      "source": [
        "from multiprocessing import Pool\n",
        "\n",
        "def square(n):\n",
        "    return n * n\n",
        "\n",
        "if __name__ == \"__main__\":\n",
        "    numbers = [1, 2, 3, 4, 5]\n",
        "\n",
        "    # Create a pool of 4 worker processes\n",
        "    with Pool(processes=4) as pool:\n",
        "        # Map the function to the list of numbers\n",
        "        results = pool.map(square, numbers)\n",
        "\n",
        "    print(\"Squared Numbers:\", results)\n"
      ],
      "metadata": {
        "id": "-WCJxW9fIihY"
      },
      "execution_count": null,
      "outputs": []
    }
  ]
}